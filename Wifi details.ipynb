{
 "cells": [
  {
   "cell_type": "code",
   "execution_count": null,
   "metadata": {},
   "outputs": [
    {
     "name": "stdout",
     "output_type": "stream",
     "text": [
      "Redmi Note 10 Pro 2           |  \n",
      "Covid-19                      |  Raviranjan@#\n",
      "Covid-19 2                    |  \n",
      "Infinix HOT 8                 |  1234567890\n",
      "Redmi Note 10 Pro             |  12345679\n",
      "Realme 7                      |  123456789\n",
      "realme narzo 20 Pro           |  amit@123\n",
      "Redmi Note 10                 |  12345678\n",
      "Redmi Note 9 Pro              |  rahul123489\n",
      "MotihariEngg_College_Motihari |  \n",
      "Redmi Y2                      |  123458542\n",
      "Harikishor                    |  123456789\n",
      "77996688                      |  77996688\n",
      "Galaxy M30sE825               |  \n",
      "Mr D K Yadav                  |  7296058453\n",
      "realme 5i                     |  12345679\n",
      "sandeep                       |  \n",
      "moto e(7) power               |  \n",
      "Redmi                         |  02345678\n",
      "Redmi note8                   |  raushan1234\n",
      "vodafonew                     |  \n",
      "No Wifi                       |  Devil@3025\n",
      "JioNet@MCE                    |  \n",
      "POCO C3                       |  \n",
      "Galaxy A10sfef2               |  \n",
      "V2037                         |  R12345678\n",
      "covind- 19                    |  6203740643\n",
      "Niraj                         |  \n",
      "moto e(7) power 7944          |  \n",
      "BPfa-UmVkbWk0                 |  \n",
      "realme 3                      |  \n",
      "NAVEEN KUMAR                  |  \n",
      "realme 7i 2                   |  12345678\n",
      "Redmi 8                       |  ravikumar1234\n",
      "sandeep 2                     |  sandeep@pk\n",
      "Redmi 2                       |  \n",
      "Galaxy A20s9077               |  123456780\n",
      "realme 5                      |  12345689\n",
      "Rajesh Kumar                  |  Rajeshkumar\n",
      "Anshsid?                      |  \n",
      "Rupan kr                      |  RUPAN2288\n",
      "Dileep Kumar Yadav            |  7296058453\n",
      "DraconianRavi                 |  \n",
      "realme 7i                     |  \n"
     ]
    }
   ],
   "source": [
    "import subprocess\n",
    "\n",
    "data = subprocess.check_output(['netsh', 'wlan', 'show', 'profiles']).decode('utf-8').split('\\n')\n",
    "profiles = [i.split(\":\")[1][1:-1] for i in data if \"All User Profile\" in i]\n",
    "for i in profiles:\n",
    "    results = subprocess.check_output(['netsh', 'wlan', 'show', 'profile', i, 'key=clear']).decode('utf-8').split('\\n')\n",
    "    results = [b.split(\":\")[1][1:-1] for b in results if \"Key Content\" in b]\n",
    "    try:\n",
    "        print (\"{:<30}|  {:<}\".format(i, results[0]))\n",
    "    except IndexError:\n",
    "        print (\"{:<30}|  {:<}\".format(i, \"\"))\n",
    "input(\"\")"
   ]
  },
  {
   "cell_type": "code",
   "execution_count": null,
   "metadata": {},
   "outputs": [],
   "source": []
  }
 ],
 "metadata": {
  "kernelspec": {
   "display_name": "Python 3",
   "language": "python",
   "name": "python3"
  },
  "language_info": {
   "codemirror_mode": {
    "name": "ipython",
    "version": 3
   },
   "file_extension": ".py",
   "mimetype": "text/x-python",
   "name": "python",
   "nbconvert_exporter": "python",
   "pygments_lexer": "ipython3",
   "version": "3.8.5"
  }
 },
 "nbformat": 4,
 "nbformat_minor": 4
}
